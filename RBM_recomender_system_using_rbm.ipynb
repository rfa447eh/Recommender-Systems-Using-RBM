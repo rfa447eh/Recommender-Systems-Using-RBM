{
  "nbformat": 4,
  "nbformat_minor": 0,
  "metadata": {
    "colab": {
      "name": "RBM_recomender_system_using_rbm.ipynb",
      "provenance": []
    },
    "kernelspec": {
      "name": "python3",
      "display_name": "Python 3"
    },
    "language_info": {
      "name": "python"
    }
  },
  "cells": [
    {
      "cell_type": "markdown",
      "source": [
        "Recommender Systems Using RBM"
      ],
      "metadata": {
        "id": "TE_r_uCX0pl_"
      }
    },
    {
      "cell_type": "markdown",
      "source": [
        "Load the necessary libraries."
      ],
      "metadata": {
        "id": "WCqWDJjB0tD1"
      }
    },
    {
      "cell_type": "code",
      "execution_count": 1,
      "metadata": {
        "id": "OvzE5_vvyWYd"
      },
      "outputs": [],
      "source": [
        "import numpy as np \n",
        "import pandas as pd\n",
        "import matplotlib.pyplot as plt\n",
        "%matplotlib inline"
      ]
    },
    {
      "cell_type": "markdown",
      "source": [
        "Load the Data Prepration and Model Evaluation libraries."
      ],
      "metadata": {
        "id": "Ti99Vq9U02qH"
      }
    },
    {
      "cell_type": "code",
      "source": [
        "from sklearn.model_selection import train_test_split\n",
        "from sklearn.metrics import mean_squared_error"
      ],
      "metadata": {
        "id": "qQD0N5110vvx"
      },
      "execution_count": 2,
      "outputs": []
    },
    {
      "cell_type": "markdown",
      "source": [
        "Load TensorFlow libraries."
      ],
      "metadata": {
        "id": "y3htplSq1Ph1"
      }
    },
    {
      "cell_type": "code",
      "source": [
        "\n",
        "import tensorflow as tf"
      ],
      "metadata": {
        "id": "Sfm-gNmM085f"
      },
      "execution_count": 3,
      "outputs": []
    },
    {
      "cell_type": "markdown",
      "source": [
        "Load the ratings dataset."
      ],
      "metadata": {
        "id": "iKeJ7CT21ch4"
      }
    },
    {
      "cell_type": "code",
      "source": [
        "!unzip \"/content/drive/MyDrive/ml-20m.zip\" -d \"/content/drive/MyDrive/\""
      ],
      "metadata": {
        "colab": {
          "base_uri": "https://localhost:8080/"
        },
        "id": "w1kvoah6lLt6",
        "outputId": "c5f23840-b306-4acb-efab-ae0340581490"
      },
      "execution_count": 4,
      "outputs": [
        {
          "output_type": "stream",
          "name": "stdout",
          "text": [
            "Archive:  /content/drive/MyDrive/ml-20m.zip\n",
            "   creating: /content/drive/MyDrive/ml-20m/\n",
            "  inflating: /content/drive/MyDrive/ml-20m/genome-scores.csv  \n",
            "  inflating: /content/drive/MyDrive/ml-20m/genome-tags.csv  \n",
            "  inflating: /content/drive/MyDrive/ml-20m/links.csv  \n",
            "  inflating: /content/drive/MyDrive/ml-20m/movies.csv  \n",
            "  inflating: /content/drive/MyDrive/ml-20m/ratings.csv  \n",
            "  inflating: /content/drive/MyDrive/ml-20m/README.txt  \n",
            "  inflating: /content/drive/MyDrive/ml-20m/tags.csv  \n"
          ]
        }
      ]
    },
    {
      "cell_type": "code",
      "source": [
        "ratings = pd.read_csv('/content/drive/MyDrive/ml-20m/ratings.csv')\n",
        "ratings.head()"
      ],
      "metadata": {
        "colab": {
          "base_uri": "https://localhost:8080/",
          "height": 206
        },
        "id": "aHoSeGn11TSX",
        "outputId": "eeb02275-331e-47be-8d63-4fa9eaefc368"
      },
      "execution_count": 5,
      "outputs": [
        {
          "output_type": "execute_result",
          "data": {
            "text/plain": [
              "   userId  movieId  rating   timestamp\n",
              "0       1        2     3.5  1112486027\n",
              "1       1       29     3.5  1112484676\n",
              "2       1       32     3.5  1112484819\n",
              "3       1       47     3.5  1112484727\n",
              "4       1       50     3.5  1112484580"
            ],
            "text/html": [
              "\n",
              "  <div id=\"df-17b886eb-5ad5-4155-8614-98d790416981\">\n",
              "    <div class=\"colab-df-container\">\n",
              "      <div>\n",
              "<style scoped>\n",
              "    .dataframe tbody tr th:only-of-type {\n",
              "        vertical-align: middle;\n",
              "    }\n",
              "\n",
              "    .dataframe tbody tr th {\n",
              "        vertical-align: top;\n",
              "    }\n",
              "\n",
              "    .dataframe thead th {\n",
              "        text-align: right;\n",
              "    }\n",
              "</style>\n",
              "<table border=\"1\" class=\"dataframe\">\n",
              "  <thead>\n",
              "    <tr style=\"text-align: right;\">\n",
              "      <th></th>\n",
              "      <th>userId</th>\n",
              "      <th>movieId</th>\n",
              "      <th>rating</th>\n",
              "      <th>timestamp</th>\n",
              "    </tr>\n",
              "  </thead>\n",
              "  <tbody>\n",
              "    <tr>\n",
              "      <th>0</th>\n",
              "      <td>1</td>\n",
              "      <td>2</td>\n",
              "      <td>3.5</td>\n",
              "      <td>1112486027</td>\n",
              "    </tr>\n",
              "    <tr>\n",
              "      <th>1</th>\n",
              "      <td>1</td>\n",
              "      <td>29</td>\n",
              "      <td>3.5</td>\n",
              "      <td>1112484676</td>\n",
              "    </tr>\n",
              "    <tr>\n",
              "      <th>2</th>\n",
              "      <td>1</td>\n",
              "      <td>32</td>\n",
              "      <td>3.5</td>\n",
              "      <td>1112484819</td>\n",
              "    </tr>\n",
              "    <tr>\n",
              "      <th>3</th>\n",
              "      <td>1</td>\n",
              "      <td>47</td>\n",
              "      <td>3.5</td>\n",
              "      <td>1112484727</td>\n",
              "    </tr>\n",
              "    <tr>\n",
              "      <th>4</th>\n",
              "      <td>1</td>\n",
              "      <td>50</td>\n",
              "      <td>3.5</td>\n",
              "      <td>1112484580</td>\n",
              "    </tr>\n",
              "  </tbody>\n",
              "</table>\n",
              "</div>\n",
              "      <button class=\"colab-df-convert\" onclick=\"convertToInteractive('df-17b886eb-5ad5-4155-8614-98d790416981')\"\n",
              "              title=\"Convert this dataframe to an interactive table.\"\n",
              "              style=\"display:none;\">\n",
              "        \n",
              "  <svg xmlns=\"http://www.w3.org/2000/svg\" height=\"24px\"viewBox=\"0 0 24 24\"\n",
              "       width=\"24px\">\n",
              "    <path d=\"M0 0h24v24H0V0z\" fill=\"none\"/>\n",
              "    <path d=\"M18.56 5.44l.94 2.06.94-2.06 2.06-.94-2.06-.94-.94-2.06-.94 2.06-2.06.94zm-11 1L8.5 8.5l.94-2.06 2.06-.94-2.06-.94L8.5 2.5l-.94 2.06-2.06.94zm10 10l.94 2.06.94-2.06 2.06-.94-2.06-.94-.94-2.06-.94 2.06-2.06.94z\"/><path d=\"M17.41 7.96l-1.37-1.37c-.4-.4-.92-.59-1.43-.59-.52 0-1.04.2-1.43.59L10.3 9.45l-7.72 7.72c-.78.78-.78 2.05 0 2.83L4 21.41c.39.39.9.59 1.41.59.51 0 1.02-.2 1.41-.59l7.78-7.78 2.81-2.81c.8-.78.8-2.07 0-2.86zM5.41 20L4 18.59l7.72-7.72 1.47 1.35L5.41 20z\"/>\n",
              "  </svg>\n",
              "      </button>\n",
              "      \n",
              "  <style>\n",
              "    .colab-df-container {\n",
              "      display:flex;\n",
              "      flex-wrap:wrap;\n",
              "      gap: 12px;\n",
              "    }\n",
              "\n",
              "    .colab-df-convert {\n",
              "      background-color: #E8F0FE;\n",
              "      border: none;\n",
              "      border-radius: 50%;\n",
              "      cursor: pointer;\n",
              "      display: none;\n",
              "      fill: #1967D2;\n",
              "      height: 32px;\n",
              "      padding: 0 0 0 0;\n",
              "      width: 32px;\n",
              "    }\n",
              "\n",
              "    .colab-df-convert:hover {\n",
              "      background-color: #E2EBFA;\n",
              "      box-shadow: 0px 1px 2px rgba(60, 64, 67, 0.3), 0px 1px 3px 1px rgba(60, 64, 67, 0.15);\n",
              "      fill: #174EA6;\n",
              "    }\n",
              "\n",
              "    [theme=dark] .colab-df-convert {\n",
              "      background-color: #3B4455;\n",
              "      fill: #D2E3FC;\n",
              "    }\n",
              "\n",
              "    [theme=dark] .colab-df-convert:hover {\n",
              "      background-color: #434B5C;\n",
              "      box-shadow: 0px 1px 3px 1px rgba(0, 0, 0, 0.15);\n",
              "      filter: drop-shadow(0px 1px 2px rgba(0, 0, 0, 0.3));\n",
              "      fill: #FFFFFF;\n",
              "    }\n",
              "  </style>\n",
              "\n",
              "      <script>\n",
              "        const buttonEl =\n",
              "          document.querySelector('#df-17b886eb-5ad5-4155-8614-98d790416981 button.colab-df-convert');\n",
              "        buttonEl.style.display =\n",
              "          google.colab.kernel.accessAllowed ? 'block' : 'none';\n",
              "\n",
              "        async function convertToInteractive(key) {\n",
              "          const element = document.querySelector('#df-17b886eb-5ad5-4155-8614-98d790416981');\n",
              "          const dataTable =\n",
              "            await google.colab.kernel.invokeFunction('convertToInteractive',\n",
              "                                                     [key], {});\n",
              "          if (!dataTable) return;\n",
              "\n",
              "          const docLinkHtml = 'Like what you see? Visit the ' +\n",
              "            '<a target=\"_blank\" href=https://colab.research.google.com/notebooks/data_table.ipynb>data table notebook</a>'\n",
              "            + ' to learn more about interactive tables.';\n",
              "          element.innerHTML = '';\n",
              "          dataTable['output_type'] = 'display_data';\n",
              "          await google.colab.output.renderOutput(dataTable, element);\n",
              "          const docLink = document.createElement('div');\n",
              "          docLink.innerHTML = docLinkHtml;\n",
              "          element.appendChild(docLink);\n",
              "        }\n",
              "      </script>\n",
              "    </div>\n",
              "  </div>\n",
              "  "
            ]
          },
          "metadata": {},
          "execution_count": 5
        }
      ]
    },
    {
      "cell_type": "markdown",
      "source": [
        "Dataset have 4 fields. The user ID, the movie ID, the rating provided by the user for the movie, and the timestamp of the rating provided, now convert the timestamp field into the appropriate format."
      ],
      "metadata": {
        "id": "6N7y2P-72nnW"
      }
    },
    {
      "cell_type": "code",
      "source": [
        "ratings.userId = ratings.userId.astype(str).astype(int)\n",
        "ratings.movieId = ratings.movieId.astype(str).astype(int)\n",
        "ratings.rating = ratings.rating.astype(str).astype(float)\n",
        "ratings.timestamp = pd.to_datetime(ratings.timestamp.astype(int), unit='s')\n",
        "ratings.head()"
      ],
      "metadata": {
        "id": "XGPfGn-Y1eue",
        "colab": {
          "base_uri": "https://localhost:8080/",
          "height": 206
        },
        "outputId": "e9e90def-745a-4aa7-c2c4-3b2b9401bc8e"
      },
      "execution_count": 6,
      "outputs": [
        {
          "output_type": "execute_result",
          "data": {
            "text/plain": [
              "   userId  movieId  rating           timestamp\n",
              "0       1        2     3.5 2005-04-02 23:53:47\n",
              "1       1       29     3.5 2005-04-02 23:31:16\n",
              "2       1       32     3.5 2005-04-02 23:33:39\n",
              "3       1       47     3.5 2005-04-02 23:32:07\n",
              "4       1       50     3.5 2005-04-02 23:29:40"
            ],
            "text/html": [
              "\n",
              "  <div id=\"df-13b89818-1369-4dd9-93b9-79310e50de8e\">\n",
              "    <div class=\"colab-df-container\">\n",
              "      <div>\n",
              "<style scoped>\n",
              "    .dataframe tbody tr th:only-of-type {\n",
              "        vertical-align: middle;\n",
              "    }\n",
              "\n",
              "    .dataframe tbody tr th {\n",
              "        vertical-align: top;\n",
              "    }\n",
              "\n",
              "    .dataframe thead th {\n",
              "        text-align: right;\n",
              "    }\n",
              "</style>\n",
              "<table border=\"1\" class=\"dataframe\">\n",
              "  <thead>\n",
              "    <tr style=\"text-align: right;\">\n",
              "      <th></th>\n",
              "      <th>userId</th>\n",
              "      <th>movieId</th>\n",
              "      <th>rating</th>\n",
              "      <th>timestamp</th>\n",
              "    </tr>\n",
              "  </thead>\n",
              "  <tbody>\n",
              "    <tr>\n",
              "      <th>0</th>\n",
              "      <td>1</td>\n",
              "      <td>2</td>\n",
              "      <td>3.5</td>\n",
              "      <td>2005-04-02 23:53:47</td>\n",
              "    </tr>\n",
              "    <tr>\n",
              "      <th>1</th>\n",
              "      <td>1</td>\n",
              "      <td>29</td>\n",
              "      <td>3.5</td>\n",
              "      <td>2005-04-02 23:31:16</td>\n",
              "    </tr>\n",
              "    <tr>\n",
              "      <th>2</th>\n",
              "      <td>1</td>\n",
              "      <td>32</td>\n",
              "      <td>3.5</td>\n",
              "      <td>2005-04-02 23:33:39</td>\n",
              "    </tr>\n",
              "    <tr>\n",
              "      <th>3</th>\n",
              "      <td>1</td>\n",
              "      <td>47</td>\n",
              "      <td>3.5</td>\n",
              "      <td>2005-04-02 23:32:07</td>\n",
              "    </tr>\n",
              "    <tr>\n",
              "      <th>4</th>\n",
              "      <td>1</td>\n",
              "      <td>50</td>\n",
              "      <td>3.5</td>\n",
              "      <td>2005-04-02 23:29:40</td>\n",
              "    </tr>\n",
              "  </tbody>\n",
              "</table>\n",
              "</div>\n",
              "      <button class=\"colab-df-convert\" onclick=\"convertToInteractive('df-13b89818-1369-4dd9-93b9-79310e50de8e')\"\n",
              "              title=\"Convert this dataframe to an interactive table.\"\n",
              "              style=\"display:none;\">\n",
              "        \n",
              "  <svg xmlns=\"http://www.w3.org/2000/svg\" height=\"24px\"viewBox=\"0 0 24 24\"\n",
              "       width=\"24px\">\n",
              "    <path d=\"M0 0h24v24H0V0z\" fill=\"none\"/>\n",
              "    <path d=\"M18.56 5.44l.94 2.06.94-2.06 2.06-.94-2.06-.94-.94-2.06-.94 2.06-2.06.94zm-11 1L8.5 8.5l.94-2.06 2.06-.94-2.06-.94L8.5 2.5l-.94 2.06-2.06.94zm10 10l.94 2.06.94-2.06 2.06-.94-2.06-.94-.94-2.06-.94 2.06-2.06.94z\"/><path d=\"M17.41 7.96l-1.37-1.37c-.4-.4-.92-.59-1.43-.59-.52 0-1.04.2-1.43.59L10.3 9.45l-7.72 7.72c-.78.78-.78 2.05 0 2.83L4 21.41c.39.39.9.59 1.41.59.51 0 1.02-.2 1.41-.59l7.78-7.78 2.81-2.81c.8-.78.8-2.07 0-2.86zM5.41 20L4 18.59l7.72-7.72 1.47 1.35L5.41 20z\"/>\n",
              "  </svg>\n",
              "      </button>\n",
              "      \n",
              "  <style>\n",
              "    .colab-df-container {\n",
              "      display:flex;\n",
              "      flex-wrap:wrap;\n",
              "      gap: 12px;\n",
              "    }\n",
              "\n",
              "    .colab-df-convert {\n",
              "      background-color: #E8F0FE;\n",
              "      border: none;\n",
              "      border-radius: 50%;\n",
              "      cursor: pointer;\n",
              "      display: none;\n",
              "      fill: #1967D2;\n",
              "      height: 32px;\n",
              "      padding: 0 0 0 0;\n",
              "      width: 32px;\n",
              "    }\n",
              "\n",
              "    .colab-df-convert:hover {\n",
              "      background-color: #E2EBFA;\n",
              "      box-shadow: 0px 1px 2px rgba(60, 64, 67, 0.3), 0px 1px 3px 1px rgba(60, 64, 67, 0.15);\n",
              "      fill: #174EA6;\n",
              "    }\n",
              "\n",
              "    [theme=dark] .colab-df-convert {\n",
              "      background-color: #3B4455;\n",
              "      fill: #D2E3FC;\n",
              "    }\n",
              "\n",
              "    [theme=dark] .colab-df-convert:hover {\n",
              "      background-color: #434B5C;\n",
              "      box-shadow: 0px 1px 3px 1px rgba(0, 0, 0, 0.15);\n",
              "      filter: drop-shadow(0px 1px 2px rgba(0, 0, 0, 0.3));\n",
              "      fill: #FFFFFF;\n",
              "    }\n",
              "  </style>\n",
              "\n",
              "      <script>\n",
              "        const buttonEl =\n",
              "          document.querySelector('#df-13b89818-1369-4dd9-93b9-79310e50de8e button.colab-df-convert');\n",
              "        buttonEl.style.display =\n",
              "          google.colab.kernel.accessAllowed ? 'block' : 'none';\n",
              "\n",
              "        async function convertToInteractive(key) {\n",
              "          const element = document.querySelector('#df-13b89818-1369-4dd9-93b9-79310e50de8e');\n",
              "          const dataTable =\n",
              "            await google.colab.kernel.invokeFunction('convertToInteractive',\n",
              "                                                     [key], {});\n",
              "          if (!dataTable) return;\n",
              "\n",
              "          const docLinkHtml = 'Like what you see? Visit the ' +\n",
              "            '<a target=\"_blank\" href=https://colab.research.google.com/notebooks/data_table.ipynb>data table notebook</a>'\n",
              "            + ' to learn more about interactive tables.';\n",
              "          element.innerHTML = '';\n",
              "          dataTable['output_type'] = 'display_data';\n",
              "          await google.colab.output.renderOutput(dataTable, element);\n",
              "          const docLink = document.createElement('div');\n",
              "          docLink.innerHTML = docLinkHtml;\n",
              "          element.appendChild(docLink);\n",
              "        }\n",
              "      </script>\n",
              "    </div>\n",
              "  </div>\n",
              "  "
            ]
          },
          "metadata": {},
          "execution_count": 6
        }
      ]
    },
    {
      "cell_type": "markdown",
      "source": [
        "Let’s find out the number of unique users, unique movies, and total ratings, and also calculate the average number of ratings provided by users."
      ],
      "metadata": {
        "id": "Pf98SVLc2vqv"
      }
    },
    {
      "cell_type": "code",
      "source": [
        "n_users = ratings.userId.unique().shape[0]\n",
        "n_movies = ratings.movieId.unique().shape[0]\n",
        "n_ratings = len(ratings)\n",
        "avg_ratings_per_user = n_ratings/n_users\n",
        "\n",
        "print('Number of unique users: ', n_users)\n",
        "print('Number of unique movies: ', n_movies)\n",
        "print('Number of total ratings: ', n_ratings)\n",
        "print('Average number of ratings per user: ', avg_ratings_per_user)"
      ],
      "metadata": {
        "id": "UWq6n-M525AV",
        "colab": {
          "base_uri": "https://localhost:8080/"
        },
        "outputId": "6638cd15-f51d-4798-d92f-c9b0048021bd"
      },
      "execution_count": 7,
      "outputs": [
        {
          "output_type": "stream",
          "name": "stdout",
          "text": [
            "Number of unique users:  138493\n",
            "Number of unique movies:  26744\n",
            "Number of total ratings:  20000263\n",
            "Average number of ratings per user:  144.4135299257002\n"
          ]
        }
      ]
    },
    {
      "cell_type": "markdown",
      "source": [
        "To reduce the complexity and size of this dataset, let’s focus on the top one thousand most rated movies. This will reduce the number of ratings from about 20 million to about 12.8 million."
      ],
      "metadata": {
        "id": "pTQGMd6f3Cn9"
      }
    },
    {
      "cell_type": "code",
      "source": [
        "movieIndex = ratings.groupby(\"movieId\").count().sort_values(by=\"rating\",ascending=False)[0:1000].index\n",
        "ratings2 = ratings[ratings.movieId.isin(movieIndex)]\n",
        "ratings2.count()"
      ],
      "metadata": {
        "colab": {
          "base_uri": "https://localhost:8080/"
        },
        "id": "uW5fO0hpnKZp",
        "outputId": "13194168-0785-4408-dc69-b08318fcdb70"
      },
      "execution_count": 8,
      "outputs": [
        {
          "output_type": "execute_result",
          "data": {
            "text/plain": [
              "userId       12840344\n",
              "movieId      12840344\n",
              "rating       12840344\n",
              "timestamp    12840344\n",
              "dtype: int64"
            ]
          },
          "metadata": {},
          "execution_count": 8
        }
      ]
    },
    {
      "cell_type": "markdown",
      "source": [
        "Let’s take a sample of one thousand users at random and filter the dataset for just these users. This will reduce the number of ratings from ~12.8 million to just 90,213. This number is sufficient to demonstrate collaborative filtering."
      ],
      "metadata": {
        "id": "pUiA_8MmnPdC"
      }
    },
    {
      "cell_type": "code",
      "source": [
        "userIndex = ratings2.groupby(\"userId\").count().sort_values(by=\"rating\",ascending=False).sample(n=1000, random_state=2018).index\n",
        "ratings3 = ratings2[ratings2.userId.isin(userIndex)]\n",
        "ratings3.count()"
      ],
      "metadata": {
        "colab": {
          "base_uri": "https://localhost:8080/"
        },
        "id": "aLyqEj2YnLx0",
        "outputId": "83a6a12d-1211-4ec2-d42c-d422801f2416"
      },
      "execution_count": 9,
      "outputs": [
        {
          "output_type": "execute_result",
          "data": {
            "text/plain": [
              "userId       90213\n",
              "movieId      90213\n",
              "rating       90213\n",
              "timestamp    90213\n",
              "dtype: int64"
            ]
          },
          "metadata": {},
          "execution_count": 9
        }
      ]
    },
    {
      "cell_type": "markdown",
      "source": [
        "Let’s also reindex movieID and userID to a range of 1 to 1,000 for our reduced dataset."
      ],
      "metadata": {
        "id": "8xxyf8aFnWmQ"
      }
    },
    {
      "cell_type": "code",
      "source": [
        "movies = ratings3.movieId.unique()\n",
        "moviesDF = pd.DataFrame(data=movies,columns=['originalMovieId'])\n",
        "moviesDF['newMovieId'] = moviesDF.index+1\n",
        "\n",
        "users = ratings3.userId.unique()\n",
        "usersDF = pd.DataFrame(data=users,columns=['originalUserId'])\n",
        "usersDF['newUserId'] = usersDF.index+1\n",
        "\n",
        "ratingDF = ratings3.merge(moviesDF,left_on='movieId',right_on='originalMovieId')\n",
        "ratingDF.drop(labels='originalMovieId', axis=1, inplace=True)\n",
        "\n",
        "ratingDF = ratingDF.merge(usersDF,left_on='userId',right_on='originalUserId')\n",
        "ratingDF.drop(labels='originalUserId', axis=1, inplace=True)\n",
        "\n",
        "ratingDF.head()"
      ],
      "metadata": {
        "colab": {
          "base_uri": "https://localhost:8080/",
          "height": 206
        },
        "id": "KrjycQT5nRmQ",
        "outputId": "2a4a129b-c87d-416c-e953-16c516f882ad"
      },
      "execution_count": 10,
      "outputs": [
        {
          "output_type": "execute_result",
          "data": {
            "text/plain": [
              "   userId  movieId  rating           timestamp  newMovieId  newUserId\n",
              "0      49       50     5.0 2013-05-03 02:50:26           1          1\n",
              "1      49      163     3.5 2013-05-03 02:43:37           2          1\n",
              "2      49      216     3.0 2013-05-03 02:45:58           3          1\n",
              "3      49      296     5.0 2013-05-03 02:50:13           4          1\n",
              "4      49      333     3.0 2013-05-03 02:44:38           5          1"
            ],
            "text/html": [
              "\n",
              "  <div id=\"df-4f16c24d-5815-4363-b17e-764ef6bda404\">\n",
              "    <div class=\"colab-df-container\">\n",
              "      <div>\n",
              "<style scoped>\n",
              "    .dataframe tbody tr th:only-of-type {\n",
              "        vertical-align: middle;\n",
              "    }\n",
              "\n",
              "    .dataframe tbody tr th {\n",
              "        vertical-align: top;\n",
              "    }\n",
              "\n",
              "    .dataframe thead th {\n",
              "        text-align: right;\n",
              "    }\n",
              "</style>\n",
              "<table border=\"1\" class=\"dataframe\">\n",
              "  <thead>\n",
              "    <tr style=\"text-align: right;\">\n",
              "      <th></th>\n",
              "      <th>userId</th>\n",
              "      <th>movieId</th>\n",
              "      <th>rating</th>\n",
              "      <th>timestamp</th>\n",
              "      <th>newMovieId</th>\n",
              "      <th>newUserId</th>\n",
              "    </tr>\n",
              "  </thead>\n",
              "  <tbody>\n",
              "    <tr>\n",
              "      <th>0</th>\n",
              "      <td>49</td>\n",
              "      <td>50</td>\n",
              "      <td>5.0</td>\n",
              "      <td>2013-05-03 02:50:26</td>\n",
              "      <td>1</td>\n",
              "      <td>1</td>\n",
              "    </tr>\n",
              "    <tr>\n",
              "      <th>1</th>\n",
              "      <td>49</td>\n",
              "      <td>163</td>\n",
              "      <td>3.5</td>\n",
              "      <td>2013-05-03 02:43:37</td>\n",
              "      <td>2</td>\n",
              "      <td>1</td>\n",
              "    </tr>\n",
              "    <tr>\n",
              "      <th>2</th>\n",
              "      <td>49</td>\n",
              "      <td>216</td>\n",
              "      <td>3.0</td>\n",
              "      <td>2013-05-03 02:45:58</td>\n",
              "      <td>3</td>\n",
              "      <td>1</td>\n",
              "    </tr>\n",
              "    <tr>\n",
              "      <th>3</th>\n",
              "      <td>49</td>\n",
              "      <td>296</td>\n",
              "      <td>5.0</td>\n",
              "      <td>2013-05-03 02:50:13</td>\n",
              "      <td>4</td>\n",
              "      <td>1</td>\n",
              "    </tr>\n",
              "    <tr>\n",
              "      <th>4</th>\n",
              "      <td>49</td>\n",
              "      <td>333</td>\n",
              "      <td>3.0</td>\n",
              "      <td>2013-05-03 02:44:38</td>\n",
              "      <td>5</td>\n",
              "      <td>1</td>\n",
              "    </tr>\n",
              "  </tbody>\n",
              "</table>\n",
              "</div>\n",
              "      <button class=\"colab-df-convert\" onclick=\"convertToInteractive('df-4f16c24d-5815-4363-b17e-764ef6bda404')\"\n",
              "              title=\"Convert this dataframe to an interactive table.\"\n",
              "              style=\"display:none;\">\n",
              "        \n",
              "  <svg xmlns=\"http://www.w3.org/2000/svg\" height=\"24px\"viewBox=\"0 0 24 24\"\n",
              "       width=\"24px\">\n",
              "    <path d=\"M0 0h24v24H0V0z\" fill=\"none\"/>\n",
              "    <path d=\"M18.56 5.44l.94 2.06.94-2.06 2.06-.94-2.06-.94-.94-2.06-.94 2.06-2.06.94zm-11 1L8.5 8.5l.94-2.06 2.06-.94-2.06-.94L8.5 2.5l-.94 2.06-2.06.94zm10 10l.94 2.06.94-2.06 2.06-.94-2.06-.94-.94-2.06-.94 2.06-2.06.94z\"/><path d=\"M17.41 7.96l-1.37-1.37c-.4-.4-.92-.59-1.43-.59-.52 0-1.04.2-1.43.59L10.3 9.45l-7.72 7.72c-.78.78-.78 2.05 0 2.83L4 21.41c.39.39.9.59 1.41.59.51 0 1.02-.2 1.41-.59l7.78-7.78 2.81-2.81c.8-.78.8-2.07 0-2.86zM5.41 20L4 18.59l7.72-7.72 1.47 1.35L5.41 20z\"/>\n",
              "  </svg>\n",
              "      </button>\n",
              "      \n",
              "  <style>\n",
              "    .colab-df-container {\n",
              "      display:flex;\n",
              "      flex-wrap:wrap;\n",
              "      gap: 12px;\n",
              "    }\n",
              "\n",
              "    .colab-df-convert {\n",
              "      background-color: #E8F0FE;\n",
              "      border: none;\n",
              "      border-radius: 50%;\n",
              "      cursor: pointer;\n",
              "      display: none;\n",
              "      fill: #1967D2;\n",
              "      height: 32px;\n",
              "      padding: 0 0 0 0;\n",
              "      width: 32px;\n",
              "    }\n",
              "\n",
              "    .colab-df-convert:hover {\n",
              "      background-color: #E2EBFA;\n",
              "      box-shadow: 0px 1px 2px rgba(60, 64, 67, 0.3), 0px 1px 3px 1px rgba(60, 64, 67, 0.15);\n",
              "      fill: #174EA6;\n",
              "    }\n",
              "\n",
              "    [theme=dark] .colab-df-convert {\n",
              "      background-color: #3B4455;\n",
              "      fill: #D2E3FC;\n",
              "    }\n",
              "\n",
              "    [theme=dark] .colab-df-convert:hover {\n",
              "      background-color: #434B5C;\n",
              "      box-shadow: 0px 1px 3px 1px rgba(0, 0, 0, 0.15);\n",
              "      filter: drop-shadow(0px 1px 2px rgba(0, 0, 0, 0.3));\n",
              "      fill: #FFFFFF;\n",
              "    }\n",
              "  </style>\n",
              "\n",
              "      <script>\n",
              "        const buttonEl =\n",
              "          document.querySelector('#df-4f16c24d-5815-4363-b17e-764ef6bda404 button.colab-df-convert');\n",
              "        buttonEl.style.display =\n",
              "          google.colab.kernel.accessAllowed ? 'block' : 'none';\n",
              "\n",
              "        async function convertToInteractive(key) {\n",
              "          const element = document.querySelector('#df-4f16c24d-5815-4363-b17e-764ef6bda404');\n",
              "          const dataTable =\n",
              "            await google.colab.kernel.invokeFunction('convertToInteractive',\n",
              "                                                     [key], {});\n",
              "          if (!dataTable) return;\n",
              "\n",
              "          const docLinkHtml = 'Like what you see? Visit the ' +\n",
              "            '<a target=\"_blank\" href=https://colab.research.google.com/notebooks/data_table.ipynb>data table notebook</a>'\n",
              "            + ' to learn more about interactive tables.';\n",
              "          element.innerHTML = '';\n",
              "          dataTable['output_type'] = 'display_data';\n",
              "          await google.colab.output.renderOutput(dataTable, element);\n",
              "          const docLink = document.createElement('div');\n",
              "          docLink.innerHTML = docLinkHtml;\n",
              "          element.appendChild(docLink);\n",
              "        }\n",
              "      </script>\n",
              "    </div>\n",
              "  </div>\n",
              "  "
            ]
          },
          "metadata": {},
          "execution_count": 10
        }
      ]
    },
    {
      "cell_type": "markdown",
      "source": [
        "Let’s calculate the number of unique users, unique movies, total ratings, and average number of ratings per user for our reduced dataset."
      ],
      "metadata": {
        "id": "3MwaJtSAnbdo"
      }
    },
    {
      "cell_type": "code",
      "source": [
        "n_users = ratingDF.userId.unique().shape[0]\n",
        "n_movies = ratingDF.movieId.unique().shape[0]\n",
        "n_ratings = len(ratingDF)\n",
        "avg_ratings_per_user = n_ratings/n_users\n",
        "print('Number of unique users: ', n_users)\n",
        "print('Number of unique movies: ', n_movies)\n",
        "print('Number of total ratings: ', n_ratings)\n",
        "print('Average number of ratings per user: ', avg_ratings_per_user)"
      ],
      "metadata": {
        "colab": {
          "base_uri": "https://localhost:8080/"
        },
        "id": "gnoh3s2-nZJ2",
        "outputId": "728b6bed-91d2-4434-a7ec-5608ca4d737d"
      },
      "execution_count": 11,
      "outputs": [
        {
          "output_type": "stream",
          "name": "stdout",
          "text": [
            "Number of unique users:  1000\n",
            "Number of unique movies:  1000\n",
            "Number of total ratings:  90213\n",
            "Average number of ratings per user:  90.213\n"
          ]
        }
      ]
    },
    {
      "cell_type": "markdown",
      "source": [
        "Let’s generate a test set and a validation set from this reduced dataset so that each holdout set is 5% of the reduced dataset."
      ],
      "metadata": {
        "id": "2O1xlYThnfpo"
      }
    },
    {
      "cell_type": "code",
      "source": [
        "X_train, X_test = train_test_split(ratingDF, test_size=0.10, shuffle=True, random_state=2018)\n",
        "X_validation, X_test = train_test_split(X_test, test_size=0.50, shuffle=True, random_state=2018)"
      ],
      "metadata": {
        "id": "ppSImO6rnd4L"
      },
      "execution_count": 12,
      "outputs": []
    },
    {
      "cell_type": "markdown",
      "source": [
        "\n",
        "Confirm size of train, validation, and test datasets."
      ],
      "metadata": {
        "id": "B2OjdHVPnkaT"
      }
    },
    {
      "cell_type": "code",
      "source": [
        "print('Size of train set: ', len(X_train))\n",
        "print('Size of validation set: ', len(X_validation))\n",
        "print('Size of test set: ', len(X_test))"
      ],
      "metadata": {
        "colab": {
          "base_uri": "https://localhost:8080/"
        },
        "id": "jY2FekNBniuo",
        "outputId": "f1e8e7a4-48d0-4a1c-c1ac-af4f12ddaff8"
      },
      "execution_count": 13,
      "outputs": [
        {
          "output_type": "stream",
          "name": "stdout",
          "text": [
            "Size of train set:  81191\n",
            "Size of validation set:  4511\n",
            "Size of test set:  4511\n"
          ]
        }
      ]
    },
    {
      "cell_type": "markdown",
      "source": [
        "Let’s create a matrix m x n, where m are the users and n are the movies. This will be a sparsely populated matrix because users rate only a fraction of the movies.\n",
        "\n",
        "Generate ratings matrix for train."
      ],
      "metadata": {
        "id": "qtQ0Ey-xoA9L"
      }
    },
    {
      "cell_type": "code",
      "source": [
        "\n",
        "ratings_train = np.zeros((n_users, n_movies))\n",
        "for row in X_train.itertuples():\n",
        "    ratings_train[row[6]-1, row[5]-1] = row[3]"
      ],
      "metadata": {
        "id": "Ok1y31Tmn_HK"
      },
      "execution_count": 14,
      "outputs": []
    },
    {
      "cell_type": "code",
      "source": [
        "ratings_train.shape"
      ],
      "metadata": {
        "colab": {
          "base_uri": "https://localhost:8080/"
        },
        "id": "x1iv34IzoG_R",
        "outputId": "24b3fd00-1cdd-41ac-dd9d-7a72f1b548ca"
      },
      "execution_count": 15,
      "outputs": [
        {
          "output_type": "execute_result",
          "data": {
            "text/plain": [
              "(1000, 1000)"
            ]
          },
          "metadata": {},
          "execution_count": 15
        }
      ]
    },
    {
      "cell_type": "markdown",
      "source": [
        "Calculate sparsity of the train ratings matrix."
      ],
      "metadata": {
        "id": "VXOIJpDQoJeR"
      }
    },
    {
      "cell_type": "code",
      "source": [
        "sparsity = float(len(ratings_train.nonzero()[0]))\n",
        "sparsity /= (ratings_train.shape[0] * ratings_train.shape[1])\n",
        "sparsity *= 100\n",
        "print('Sparsity: {:4.2f}%'.format(sparsity))"
      ],
      "metadata": {
        "colab": {
          "base_uri": "https://localhost:8080/"
        },
        "id": "LXoTMbmnoLif",
        "outputId": "9f0a110c-7c31-4107-a60c-e6eae7bbd8ca"
      },
      "execution_count": 16,
      "outputs": [
        {
          "output_type": "stream",
          "name": "stdout",
          "text": [
            "Sparsity: 8.12%\n"
          ]
        }
      ]
    },
    {
      "cell_type": "markdown",
      "source": [
        "Generate ratings matrix for validation."
      ],
      "metadata": {
        "id": "B4Nb_tdIoOI3"
      }
    },
    {
      "cell_type": "code",
      "source": [
        "ratings_validation = np.zeros((n_users, n_movies))\n",
        "for row in X_validation.itertuples():\n",
        "    ratings_validation[row[6]-1, row[5]-1] = row[3]"
      ],
      "metadata": {
        "id": "GAIyDZbqoQ4Y"
      },
      "execution_count": 17,
      "outputs": []
    },
    {
      "cell_type": "markdown",
      "source": [
        "Generate ratings matrix for test."
      ],
      "metadata": {
        "id": "1fp-x4bHoTb4"
      }
    },
    {
      "cell_type": "code",
      "source": [
        "\n",
        "ratings_test = np.zeros((n_users, n_movies))\n",
        "for row in X_test.itertuples():\n",
        "    ratings_test[row[6]-1, row[5]-1] = row[3]"
      ],
      "metadata": {
        "id": "nm8PaTLSoVfL"
      },
      "execution_count": 18,
      "outputs": []
    },
    {
      "cell_type": "markdown",
      "source": [
        "Calculate sparsity of the validation ratings matrix."
      ],
      "metadata": {
        "id": "_AjWErsVoXZ4"
      }
    },
    {
      "cell_type": "code",
      "source": [
        "sparsity = float(len(ratings_validation.nonzero()[0]))\n",
        "sparsity /= (ratings_validation.shape[0] * ratings_validation.shape[1])\n",
        "sparsity *= 100\n",
        "print('Sparsity: {:4.2f}%'.format(sparsity))"
      ],
      "metadata": {
        "colab": {
          "base_uri": "https://localhost:8080/"
        },
        "id": "GB7xRIvEoaJQ",
        "outputId": "c7d671ee-1a2c-4153-e189-073a782c2cbe"
      },
      "execution_count": 19,
      "outputs": [
        {
          "output_type": "stream",
          "name": "stdout",
          "text": [
            "Sparsity: 0.45%\n"
          ]
        }
      ]
    },
    {
      "cell_type": "code",
      "source": [
        "import tensorflow.compat.v1 as tf\n",
        "tf.disable_v2_behavior()"
      ],
      "metadata": {
        "colab": {
          "base_uri": "https://localhost:8080/"
        },
        "id": "ea3tOZGcpXjP",
        "outputId": "0896dee8-dd01-4667-c203-326e35c58697"
      },
      "execution_count": 23,
      "outputs": [
        {
          "output_type": "stream",
          "name": "stdout",
          "text": [
            "WARNING:tensorflow:From /usr/local/lib/python3.7/dist-packages/tensorflow/python/compat/v2_compat.py:107: disable_resource_variables (from tensorflow.python.ops.variable_scope) is deprecated and will be removed in a future version.\n",
            "Instructions for updating:\n",
            "non-resource variables are not supported in the long term\n"
          ]
        }
      ]
    },
    {
      "cell_type": "markdown",
      "source": [
        "Define RBM class."
      ],
      "metadata": {
        "id": "HhPylNsGoZnB"
      }
    },
    {
      "cell_type": "code",
      "source": [
        "class RBM(object):\n",
        "    \n",
        "    def __init__(self, input_size, output_size, \n",
        "                 learning_rate, epochs, batchsize):\n",
        "        # Define hyperparameters\n",
        "        self._input_size = input_size\n",
        "        self._output_size = output_size\n",
        "        self.learning_rate = learning_rate\n",
        "        self.epochs = epochs\n",
        "        self.batchsize = batchsize\n",
        "        \n",
        "        # Initialize weights and biases using zero matrices\n",
        "        self.w = np.zeros([input_size, output_size], dtype=np.float32)\n",
        "        self.hb = np.zeros([output_size], dtype=np.float32)\n",
        "        self.vb = np.zeros([input_size], dtype=np.float32)\n",
        "\n",
        "    def prob_h_given_v(self, visible, w, hb):\n",
        "        return tf.nn.sigmoid(tf.matmul(visible, w) + hb)\n",
        "\n",
        "    def prob_v_given_h(self, hidden, w, vb):\n",
        "        return tf.nn.sigmoid(tf.matmul(hidden, tf.transpose(w)) + vb)\n",
        "    \n",
        "    def sample_prob(self, probs):\n",
        "        return tf.nn.relu(tf.sign(probs - tf.random_uniform(tf.shape(probs))))\n",
        "\n",
        "    def train(self, X):\n",
        "        _w = tf.placeholder(tf.float32, [self._input_size, self._output_size])\n",
        "        _hb = tf.placeholder(tf.float32, [self._output_size])\n",
        "        _vb = tf.placeholder(tf.float32, [self._input_size])\n",
        "        \n",
        "        prv_w = np.zeros([self._input_size, self._output_size], dtype=np.float32)\n",
        "        prv_hb = np.zeros([self._output_size], dtype=np.float32)\n",
        "        prv_vb = np.zeros([self._input_size], dtype=np.float32)\n",
        "        \n",
        "        cur_w = np.zeros([self._input_size, self._output_size], dtype=np.float32)\n",
        "        cur_hb = np.zeros([self._output_size], dtype=np.float32)\n",
        "        cur_vb = np.zeros([self._input_size], dtype=np.float32)\n",
        "        \n",
        "        v0 = tf.placeholder(tf.float32, [None, self._input_size])\n",
        "        h0 = self.sample_prob(self.prob_h_given_v(v0, _w, _hb))\n",
        "        v1 = self.sample_prob(self.prob_v_given_h(h0, _w, _vb))\n",
        "        h1 = self.prob_h_given_v(v1, _w, _hb)\n",
        "        \n",
        "        positive_grad = tf.matmul(tf.transpose(v0), h0)\n",
        "        negative_grad = tf.matmul(tf.transpose(v1), h1)\n",
        "        \n",
        "        update_w = _w + self.learning_rate * (positive_grad - negative_grad) / tf.to_float(tf.shape(v0)[0])\n",
        "        update_vb = _vb +  self.learning_rate * tf.reduce_mean(v0 - v1, 0)\n",
        "        update_hb = _hb +  self.learning_rate * tf.reduce_mean(h0 - h1, 0)\n",
        "        \n",
        "        err = tf.reduce_mean(tf.square(v0 - v1))\n",
        "        \n",
        "        error_list = []\n",
        "        \n",
        "        with tf.Session() as sess:\n",
        "            sess.run(tf.global_variables_initializer())\n",
        "            \n",
        "            for epoch in range(self.epochs):\n",
        "                for start, end in zip(range(0, len(X), self.batchsize),range(self.batchsize,len(X), self.batchsize)):\n",
        "                    batch = X[start:end]\n",
        "                    cur_w = sess.run(update_w, feed_dict={v0: batch, _w: prv_w, _hb: prv_hb, _vb: prv_vb})\n",
        "                    cur_hb = sess.run(update_hb, feed_dict={v0: batch, _w: prv_w, _hb: prv_hb, _vb: prv_vb})\n",
        "                    cur_vb = sess.run(update_vb, feed_dict={v0: batch, _w: prv_w, _hb: prv_hb, _vb: prv_vb})\n",
        "                    prv_w = cur_w\n",
        "                    prv_hb = cur_hb\n",
        "                    prv_vb = cur_vb\n",
        "                error = sess.run(err, feed_dict={v0: X, _w: cur_w, _vb: cur_vb, _hb: cur_hb})\n",
        "                print ('Epoch: %d' % epoch,'reconstruction error: %f' % error)\n",
        "                error_list.append(error)\n",
        "            self.w = prv_w\n",
        "            self.hb = prv_hb\n",
        "            self.vb = prv_vb\n",
        "            return error_list\n",
        "\n",
        "    def rbm_output(self, X):\n",
        "        \n",
        "        input_X = tf.constant(X)\n",
        "        _w = tf.constant(self.w)\n",
        "        _hb = tf.constant(self.hb)\n",
        "        _vb = tf.constant(self.vb)\n",
        "        out = tf.nn.sigmoid(tf.matmul(input_X, _w) + _hb)\n",
        "        hiddenGen = self.sample_prob(self.prob_h_given_v(input_X, _w, _hb))\n",
        "        visibleGen = self.sample_prob(self.prob_v_given_h(hiddenGen, _w, _vb))\n",
        "        with tf.Session() as sess:\n",
        "            sess.run(tf.global_variables_initializer())\n",
        "            return sess.run(out), sess.run(visibleGen), sess.run(hiddenGen)"
      ],
      "metadata": {
        "id": "opY4fP-vok9X"
      },
      "execution_count": 24,
      "outputs": []
    },
    {
      "cell_type": "markdown",
      "source": [
        "To train the RBM, let’s create a NumPy array called inputX from ratings_train and convert these values to float32. We will also define the RBM to take in a one thousand-dimensional input, output a one thousand-dimensional output, use a learning rate of 0.3, train for five hundred epochs, and use a batch size of two hundred."
      ],
      "metadata": {
        "id": "o1BZIVi5osgT"
      }
    },
    {
      "cell_type": "code",
      "source": [
        "#Begin the training cycle\n",
        "# Convert inputX into float32\n",
        "inputX = ratings_train\n",
        "inputX = inputX.astype(np.float32)\n",
        "\n",
        "# Define the parameters of the RBMs we will train\n",
        "rbm=RBM(1000,1000,0.3,500,200)"
      ],
      "metadata": {
        "id": "1JUrsaeCowOR"
      },
      "execution_count": 25,
      "outputs": []
    },
    {
      "cell_type": "markdown",
      "source": [
        "Let’s begin training."
      ],
      "metadata": {
        "id": "JpX-K3q8o1BH"
      }
    },
    {
      "cell_type": "code",
      "source": [
        "\n",
        "# Train RBM model\n",
        "err = rbm.train(inputX)\n",
        "outputX, reconstructedX, hiddenX = rbm.rbm_output(inputX)"
      ],
      "metadata": {
        "colab": {
          "base_uri": "https://localhost:8080/"
        },
        "id": "gO5FSUCAolql",
        "outputId": "b7b4bf76-d13e-4116-ec8a-79beb4b01a2a"
      },
      "execution_count": 26,
      "outputs": [
        {
          "output_type": "stream",
          "name": "stdout",
          "text": [
            "WARNING:tensorflow:From /usr/local/lib/python3.7/dist-packages/tensorflow/python/util/dispatch.py:1082: to_float (from tensorflow.python.ops.math_ops) is deprecated and will be removed in a future version.\n",
            "Instructions for updating:\n",
            "Use `tf.cast` instead.\n",
            "Epoch: 0 reconstruction error: 1.094547\n",
            "Epoch: 1 reconstruction error: 1.078480\n",
            "Epoch: 2 reconstruction error: 1.079803\n",
            "Epoch: 3 reconstruction error: 1.085565\n",
            "Epoch: 4 reconstruction error: 1.084800\n",
            "Epoch: 5 reconstruction error: 1.084389\n",
            "Epoch: 6 reconstruction error: 1.077059\n",
            "Epoch: 7 reconstruction error: 1.074770\n",
            "Epoch: 8 reconstruction error: 1.069754\n",
            "Epoch: 9 reconstruction error: 1.064741\n",
            "Epoch: 10 reconstruction error: 1.068638\n",
            "Epoch: 11 reconstruction error: 1.073115\n",
            "Epoch: 12 reconstruction error: 1.064208\n",
            "Epoch: 13 reconstruction error: 1.065637\n",
            "Epoch: 14 reconstruction error: 1.076710\n",
            "Epoch: 15 reconstruction error: 1.071568\n",
            "Epoch: 16 reconstruction error: 1.067605\n",
            "Epoch: 17 reconstruction error: 1.073670\n",
            "Epoch: 18 reconstruction error: 1.071964\n",
            "Epoch: 19 reconstruction error: 1.078030\n",
            "Epoch: 20 reconstruction error: 1.074414\n",
            "Epoch: 21 reconstruction error: 1.082677\n",
            "Epoch: 22 reconstruction error: 1.076851\n",
            "Epoch: 23 reconstruction error: 1.083334\n",
            "Epoch: 24 reconstruction error: 1.080477\n",
            "Epoch: 25 reconstruction error: 1.081946\n",
            "Epoch: 26 reconstruction error: 1.086151\n",
            "Epoch: 27 reconstruction error: 1.083009\n",
            "Epoch: 28 reconstruction error: 1.084643\n",
            "Epoch: 29 reconstruction error: 1.087075\n",
            "Epoch: 30 reconstruction error: 1.085793\n",
            "Epoch: 31 reconstruction error: 1.089713\n",
            "Epoch: 32 reconstruction error: 1.089921\n",
            "Epoch: 33 reconstruction error: 1.088457\n",
            "Epoch: 34 reconstruction error: 1.089381\n",
            "Epoch: 35 reconstruction error: 1.088258\n",
            "Epoch: 36 reconstruction error: 1.089481\n",
            "Epoch: 37 reconstruction error: 1.093411\n",
            "Epoch: 38 reconstruction error: 1.090549\n",
            "Epoch: 39 reconstruction error: 1.093706\n",
            "Epoch: 40 reconstruction error: 1.089882\n",
            "Epoch: 41 reconstruction error: 1.091776\n",
            "Epoch: 42 reconstruction error: 1.090641\n",
            "Epoch: 43 reconstruction error: 1.091197\n",
            "Epoch: 44 reconstruction error: 1.092767\n",
            "Epoch: 45 reconstruction error: 1.092939\n",
            "Epoch: 46 reconstruction error: 1.091858\n",
            "Epoch: 47 reconstruction error: 1.091216\n",
            "Epoch: 48 reconstruction error: 1.090927\n",
            "Epoch: 49 reconstruction error: 1.092885\n",
            "Epoch: 50 reconstruction error: 1.092659\n",
            "Epoch: 51 reconstruction error: 1.092769\n",
            "Epoch: 52 reconstruction error: 1.092216\n",
            "Epoch: 53 reconstruction error: 1.093235\n",
            "Epoch: 54 reconstruction error: 1.091681\n",
            "Epoch: 55 reconstruction error: 1.093536\n",
            "Epoch: 56 reconstruction error: 1.092057\n",
            "Epoch: 57 reconstruction error: 1.093063\n",
            "Epoch: 58 reconstruction error: 1.092778\n",
            "Epoch: 59 reconstruction error: 1.093511\n",
            "Epoch: 60 reconstruction error: 1.093647\n",
            "Epoch: 61 reconstruction error: 1.092494\n",
            "Epoch: 62 reconstruction error: 1.095865\n",
            "Epoch: 63 reconstruction error: 1.093426\n",
            "Epoch: 64 reconstruction error: 1.091982\n",
            "Epoch: 65 reconstruction error: 1.093596\n",
            "Epoch: 66 reconstruction error: 1.092734\n",
            "Epoch: 67 reconstruction error: 1.092844\n",
            "Epoch: 68 reconstruction error: 1.092157\n",
            "Epoch: 69 reconstruction error: 1.093776\n",
            "Epoch: 70 reconstruction error: 1.093248\n",
            "Epoch: 71 reconstruction error: 1.092487\n",
            "Epoch: 72 reconstruction error: 1.092332\n",
            "Epoch: 73 reconstruction error: 1.092340\n",
            "Epoch: 74 reconstruction error: 1.093241\n",
            "Epoch: 75 reconstruction error: 1.094183\n",
            "Epoch: 76 reconstruction error: 1.092067\n",
            "Epoch: 77 reconstruction error: 1.094059\n",
            "Epoch: 78 reconstruction error: 1.091527\n",
            "Epoch: 79 reconstruction error: 1.093694\n",
            "Epoch: 80 reconstruction error: 1.093196\n",
            "Epoch: 81 reconstruction error: 1.091874\n",
            "Epoch: 82 reconstruction error: 1.092134\n",
            "Epoch: 83 reconstruction error: 1.092021\n",
            "Epoch: 84 reconstruction error: 1.092374\n",
            "Epoch: 85 reconstruction error: 1.091805\n",
            "Epoch: 86 reconstruction error: 1.092528\n",
            "Epoch: 87 reconstruction error: 1.092559\n",
            "Epoch: 88 reconstruction error: 1.092741\n",
            "Epoch: 89 reconstruction error: 1.092839\n",
            "Epoch: 90 reconstruction error: 1.091956\n",
            "Epoch: 91 reconstruction error: 1.092015\n",
            "Epoch: 92 reconstruction error: 1.092816\n",
            "Epoch: 93 reconstruction error: 1.091689\n",
            "Epoch: 94 reconstruction error: 1.091715\n",
            "Epoch: 95 reconstruction error: 1.092865\n",
            "Epoch: 96 reconstruction error: 1.091720\n",
            "Epoch: 97 reconstruction error: 1.092402\n",
            "Epoch: 98 reconstruction error: 1.091097\n",
            "Epoch: 99 reconstruction error: 1.092322\n",
            "Epoch: 100 reconstruction error: 1.091743\n",
            "Epoch: 101 reconstruction error: 1.091938\n",
            "Epoch: 102 reconstruction error: 1.090842\n",
            "Epoch: 103 reconstruction error: 1.091915\n",
            "Epoch: 104 reconstruction error: 1.091472\n",
            "Epoch: 105 reconstruction error: 1.091033\n",
            "Epoch: 106 reconstruction error: 1.091998\n",
            "Epoch: 107 reconstruction error: 1.091066\n",
            "Epoch: 108 reconstruction error: 1.090348\n",
            "Epoch: 109 reconstruction error: 1.091941\n",
            "Epoch: 110 reconstruction error: 1.089190\n",
            "Epoch: 111 reconstruction error: 1.091370\n",
            "Epoch: 112 reconstruction error: 1.089416\n",
            "Epoch: 113 reconstruction error: 1.090672\n",
            "Epoch: 114 reconstruction error: 1.089795\n",
            "Epoch: 115 reconstruction error: 1.090981\n",
            "Epoch: 116 reconstruction error: 1.089718\n",
            "Epoch: 117 reconstruction error: 1.089615\n",
            "Epoch: 118 reconstruction error: 1.088856\n",
            "Epoch: 119 reconstruction error: 1.089424\n",
            "Epoch: 120 reconstruction error: 1.089169\n",
            "Epoch: 121 reconstruction error: 1.089573\n",
            "Epoch: 122 reconstruction error: 1.088506\n",
            "Epoch: 123 reconstruction error: 1.088246\n",
            "Epoch: 124 reconstruction error: 1.088248\n",
            "Epoch: 125 reconstruction error: 1.088341\n",
            "Epoch: 126 reconstruction error: 1.087468\n",
            "Epoch: 127 reconstruction error: 1.088498\n",
            "Epoch: 128 reconstruction error: 1.087664\n",
            "Epoch: 129 reconstruction error: 1.088580\n",
            "Epoch: 130 reconstruction error: 1.088102\n",
            "Epoch: 131 reconstruction error: 1.087379\n",
            "Epoch: 132 reconstruction error: 1.087461\n",
            "Epoch: 133 reconstruction error: 1.088495\n",
            "Epoch: 134 reconstruction error: 1.087170\n",
            "Epoch: 135 reconstruction error: 1.087981\n",
            "Epoch: 136 reconstruction error: 1.088259\n",
            "Epoch: 137 reconstruction error: 1.087271\n",
            "Epoch: 138 reconstruction error: 1.088114\n",
            "Epoch: 139 reconstruction error: 1.086576\n",
            "Epoch: 140 reconstruction error: 1.087474\n",
            "Epoch: 141 reconstruction error: 1.086674\n",
            "Epoch: 142 reconstruction error: 1.087247\n",
            "Epoch: 143 reconstruction error: 1.086949\n",
            "Epoch: 144 reconstruction error: 1.086877\n",
            "Epoch: 145 reconstruction error: 1.086982\n",
            "Epoch: 146 reconstruction error: 1.087118\n",
            "Epoch: 147 reconstruction error: 1.087342\n",
            "Epoch: 148 reconstruction error: 1.086527\n",
            "Epoch: 149 reconstruction error: 1.086993\n",
            "Epoch: 150 reconstruction error: 1.086333\n",
            "Epoch: 151 reconstruction error: 1.086095\n",
            "Epoch: 152 reconstruction error: 1.086962\n",
            "Epoch: 153 reconstruction error: 1.085817\n",
            "Epoch: 154 reconstruction error: 1.085996\n",
            "Epoch: 155 reconstruction error: 1.085497\n",
            "Epoch: 156 reconstruction error: 1.086112\n",
            "Epoch: 157 reconstruction error: 1.085721\n",
            "Epoch: 158 reconstruction error: 1.085683\n",
            "Epoch: 159 reconstruction error: 1.085492\n",
            "Epoch: 160 reconstruction error: 1.085976\n",
            "Epoch: 161 reconstruction error: 1.085351\n",
            "Epoch: 162 reconstruction error: 1.085703\n",
            "Epoch: 163 reconstruction error: 1.085745\n",
            "Epoch: 164 reconstruction error: 1.085621\n",
            "Epoch: 165 reconstruction error: 1.084712\n",
            "Epoch: 166 reconstruction error: 1.085230\n",
            "Epoch: 167 reconstruction error: 1.084824\n",
            "Epoch: 168 reconstruction error: 1.085274\n",
            "Epoch: 169 reconstruction error: 1.084571\n",
            "Epoch: 170 reconstruction error: 1.085143\n",
            "Epoch: 171 reconstruction error: 1.084419\n",
            "Epoch: 172 reconstruction error: 1.085135\n",
            "Epoch: 173 reconstruction error: 1.083928\n",
            "Epoch: 174 reconstruction error: 1.084528\n",
            "Epoch: 175 reconstruction error: 1.084770\n",
            "Epoch: 176 reconstruction error: 1.083729\n",
            "Epoch: 177 reconstruction error: 1.084615\n",
            "Epoch: 178 reconstruction error: 1.083925\n",
            "Epoch: 179 reconstruction error: 1.083786\n",
            "Epoch: 180 reconstruction error: 1.084537\n",
            "Epoch: 181 reconstruction error: 1.083815\n",
            "Epoch: 182 reconstruction error: 1.084237\n",
            "Epoch: 183 reconstruction error: 1.084056\n",
            "Epoch: 184 reconstruction error: 1.083568\n",
            "Epoch: 185 reconstruction error: 1.083882\n",
            "Epoch: 186 reconstruction error: 1.083163\n",
            "Epoch: 187 reconstruction error: 1.083642\n",
            "Epoch: 188 reconstruction error: 1.083711\n",
            "Epoch: 189 reconstruction error: 1.082605\n",
            "Epoch: 190 reconstruction error: 1.083475\n",
            "Epoch: 191 reconstruction error: 1.083678\n",
            "Epoch: 192 reconstruction error: 1.082952\n",
            "Epoch: 193 reconstruction error: 1.081743\n",
            "Epoch: 194 reconstruction error: 1.082865\n",
            "Epoch: 195 reconstruction error: 1.083012\n",
            "Epoch: 196 reconstruction error: 1.082397\n",
            "Epoch: 197 reconstruction error: 1.082947\n",
            "Epoch: 198 reconstruction error: 1.083011\n",
            "Epoch: 199 reconstruction error: 1.081853\n",
            "Epoch: 200 reconstruction error: 1.083565\n",
            "Epoch: 201 reconstruction error: 1.081985\n",
            "Epoch: 202 reconstruction error: 1.082481\n",
            "Epoch: 203 reconstruction error: 1.082327\n",
            "Epoch: 204 reconstruction error: 1.082312\n",
            "Epoch: 205 reconstruction error: 1.082091\n",
            "Epoch: 206 reconstruction error: 1.082615\n",
            "Epoch: 207 reconstruction error: 1.082003\n",
            "Epoch: 208 reconstruction error: 1.082176\n",
            "Epoch: 209 reconstruction error: 1.082695\n",
            "Epoch: 210 reconstruction error: 1.081522\n",
            "Epoch: 211 reconstruction error: 1.082361\n",
            "Epoch: 212 reconstruction error: 1.081957\n",
            "Epoch: 213 reconstruction error: 1.082410\n",
            "Epoch: 214 reconstruction error: 1.082034\n",
            "Epoch: 215 reconstruction error: 1.082358\n",
            "Epoch: 216 reconstruction error: 1.081746\n",
            "Epoch: 217 reconstruction error: 1.081843\n",
            "Epoch: 218 reconstruction error: 1.081239\n",
            "Epoch: 219 reconstruction error: 1.082258\n",
            "Epoch: 220 reconstruction error: 1.081411\n",
            "Epoch: 221 reconstruction error: 1.081543\n",
            "Epoch: 222 reconstruction error: 1.081128\n",
            "Epoch: 223 reconstruction error: 1.081781\n",
            "Epoch: 224 reconstruction error: 1.081653\n",
            "Epoch: 225 reconstruction error: 1.081602\n",
            "Epoch: 226 reconstruction error: 1.082278\n",
            "Epoch: 227 reconstruction error: 1.081640\n",
            "Epoch: 228 reconstruction error: 1.081280\n",
            "Epoch: 229 reconstruction error: 1.081535\n",
            "Epoch: 230 reconstruction error: 1.081831\n",
            "Epoch: 231 reconstruction error: 1.080788\n",
            "Epoch: 232 reconstruction error: 1.081615\n",
            "Epoch: 233 reconstruction error: 1.082016\n",
            "Epoch: 234 reconstruction error: 1.081110\n",
            "Epoch: 235 reconstruction error: 1.082029\n",
            "Epoch: 236 reconstruction error: 1.080986\n",
            "Epoch: 237 reconstruction error: 1.080716\n",
            "Epoch: 238 reconstruction error: 1.080889\n",
            "Epoch: 239 reconstruction error: 1.081669\n",
            "Epoch: 240 reconstruction error: 1.081529\n",
            "Epoch: 241 reconstruction error: 1.080817\n",
            "Epoch: 242 reconstruction error: 1.080758\n",
            "Epoch: 243 reconstruction error: 1.080271\n",
            "Epoch: 244 reconstruction error: 1.080266\n",
            "Epoch: 245 reconstruction error: 1.080757\n",
            "Epoch: 246 reconstruction error: 1.080328\n",
            "Epoch: 247 reconstruction error: 1.080590\n",
            "Epoch: 248 reconstruction error: 1.081267\n",
            "Epoch: 249 reconstruction error: 1.080237\n",
            "Epoch: 250 reconstruction error: 1.081035\n",
            "Epoch: 251 reconstruction error: 1.080410\n",
            "Epoch: 252 reconstruction error: 1.079950\n",
            "Epoch: 253 reconstruction error: 1.080188\n",
            "Epoch: 254 reconstruction error: 1.080279\n",
            "Epoch: 255 reconstruction error: 1.079728\n",
            "Epoch: 256 reconstruction error: 1.080132\n",
            "Epoch: 257 reconstruction error: 1.079479\n",
            "Epoch: 258 reconstruction error: 1.080454\n",
            "Epoch: 259 reconstruction error: 1.078894\n",
            "Epoch: 260 reconstruction error: 1.080408\n",
            "Epoch: 261 reconstruction error: 1.079896\n",
            "Epoch: 262 reconstruction error: 1.080197\n",
            "Epoch: 263 reconstruction error: 1.080014\n",
            "Epoch: 264 reconstruction error: 1.079429\n",
            "Epoch: 265 reconstruction error: 1.079623\n",
            "Epoch: 266 reconstruction error: 1.079762\n",
            "Epoch: 267 reconstruction error: 1.078866\n",
            "Epoch: 268 reconstruction error: 1.079687\n",
            "Epoch: 269 reconstruction error: 1.079710\n",
            "Epoch: 270 reconstruction error: 1.079805\n",
            "Epoch: 271 reconstruction error: 1.079296\n",
            "Epoch: 272 reconstruction error: 1.079720\n",
            "Epoch: 273 reconstruction error: 1.079443\n",
            "Epoch: 274 reconstruction error: 1.079438\n",
            "Epoch: 275 reconstruction error: 1.079368\n",
            "Epoch: 276 reconstruction error: 1.079118\n",
            "Epoch: 277 reconstruction error: 1.079342\n",
            "Epoch: 278 reconstruction error: 1.079623\n",
            "Epoch: 279 reconstruction error: 1.079214\n",
            "Epoch: 280 reconstruction error: 1.079252\n",
            "Epoch: 281 reconstruction error: 1.079162\n",
            "Epoch: 282 reconstruction error: 1.078966\n",
            "Epoch: 283 reconstruction error: 1.079376\n",
            "Epoch: 284 reconstruction error: 1.079250\n",
            "Epoch: 285 reconstruction error: 1.079370\n",
            "Epoch: 286 reconstruction error: 1.078568\n",
            "Epoch: 287 reconstruction error: 1.078980\n",
            "Epoch: 288 reconstruction error: 1.079131\n",
            "Epoch: 289 reconstruction error: 1.078951\n",
            "Epoch: 290 reconstruction error: 1.079103\n",
            "Epoch: 291 reconstruction error: 1.079527\n",
            "Epoch: 292 reconstruction error: 1.078627\n",
            "Epoch: 293 reconstruction error: 1.079128\n",
            "Epoch: 294 reconstruction error: 1.078990\n",
            "Epoch: 295 reconstruction error: 1.078823\n",
            "Epoch: 296 reconstruction error: 1.078676\n",
            "Epoch: 297 reconstruction error: 1.078498\n",
            "Epoch: 298 reconstruction error: 1.078321\n",
            "Epoch: 299 reconstruction error: 1.079087\n",
            "Epoch: 300 reconstruction error: 1.078256\n",
            "Epoch: 301 reconstruction error: 1.078936\n",
            "Epoch: 302 reconstruction error: 1.078280\n",
            "Epoch: 303 reconstruction error: 1.078994\n",
            "Epoch: 304 reconstruction error: 1.078154\n",
            "Epoch: 305 reconstruction error: 1.078434\n",
            "Epoch: 306 reconstruction error: 1.078799\n",
            "Epoch: 307 reconstruction error: 1.078239\n",
            "Epoch: 308 reconstruction error: 1.078796\n",
            "Epoch: 309 reconstruction error: 1.078279\n",
            "Epoch: 310 reconstruction error: 1.078568\n",
            "Epoch: 311 reconstruction error: 1.078413\n",
            "Epoch: 312 reconstruction error: 1.078683\n",
            "Epoch: 313 reconstruction error: 1.078346\n",
            "Epoch: 314 reconstruction error: 1.078300\n",
            "Epoch: 315 reconstruction error: 1.078591\n",
            "Epoch: 316 reconstruction error: 1.077636\n",
            "Epoch: 317 reconstruction error: 1.078933\n",
            "Epoch: 318 reconstruction error: 1.077955\n",
            "Epoch: 319 reconstruction error: 1.078012\n",
            "Epoch: 320 reconstruction error: 1.077675\n",
            "Epoch: 321 reconstruction error: 1.077754\n",
            "Epoch: 322 reconstruction error: 1.078192\n",
            "Epoch: 323 reconstruction error: 1.078279\n",
            "Epoch: 324 reconstruction error: 1.077873\n",
            "Epoch: 325 reconstruction error: 1.078179\n",
            "Epoch: 326 reconstruction error: 1.077862\n",
            "Epoch: 327 reconstruction error: 1.078068\n",
            "Epoch: 328 reconstruction error: 1.076964\n",
            "Epoch: 329 reconstruction error: 1.077940\n",
            "Epoch: 330 reconstruction error: 1.077510\n",
            "Epoch: 331 reconstruction error: 1.077446\n",
            "Epoch: 332 reconstruction error: 1.077670\n",
            "Epoch: 333 reconstruction error: 1.078122\n",
            "Epoch: 334 reconstruction error: 1.077634\n",
            "Epoch: 335 reconstruction error: 1.077716\n",
            "Epoch: 336 reconstruction error: 1.077533\n",
            "Epoch: 337 reconstruction error: 1.077494\n",
            "Epoch: 338 reconstruction error: 1.077603\n",
            "Epoch: 339 reconstruction error: 1.077237\n",
            "Epoch: 340 reconstruction error: 1.077649\n",
            "Epoch: 341 reconstruction error: 1.077842\n",
            "Epoch: 342 reconstruction error: 1.077533\n",
            "Epoch: 343 reconstruction error: 1.077785\n",
            "Epoch: 344 reconstruction error: 1.077667\n",
            "Epoch: 345 reconstruction error: 1.077322\n",
            "Epoch: 346 reconstruction error: 1.077310\n",
            "Epoch: 347 reconstruction error: 1.077404\n",
            "Epoch: 348 reconstruction error: 1.077101\n",
            "Epoch: 349 reconstruction error: 1.077695\n",
            "Epoch: 350 reconstruction error: 1.077016\n",
            "Epoch: 351 reconstruction error: 1.077343\n",
            "Epoch: 352 reconstruction error: 1.077276\n",
            "Epoch: 353 reconstruction error: 1.077191\n",
            "Epoch: 354 reconstruction error: 1.076612\n",
            "Epoch: 355 reconstruction error: 1.077286\n",
            "Epoch: 356 reconstruction error: 1.076862\n",
            "Epoch: 357 reconstruction error: 1.077031\n",
            "Epoch: 358 reconstruction error: 1.076247\n",
            "Epoch: 359 reconstruction error: 1.077443\n",
            "Epoch: 360 reconstruction error: 1.076730\n",
            "Epoch: 361 reconstruction error: 1.077523\n",
            "Epoch: 362 reconstruction error: 1.076900\n",
            "Epoch: 363 reconstruction error: 1.076772\n",
            "Epoch: 364 reconstruction error: 1.076633\n",
            "Epoch: 365 reconstruction error: 1.077248\n",
            "Epoch: 366 reconstruction error: 1.076916\n",
            "Epoch: 367 reconstruction error: 1.076522\n",
            "Epoch: 368 reconstruction error: 1.076725\n",
            "Epoch: 369 reconstruction error: 1.076906\n",
            "Epoch: 370 reconstruction error: 1.077047\n",
            "Epoch: 371 reconstruction error: 1.077227\n",
            "Epoch: 372 reconstruction error: 1.076007\n",
            "Epoch: 373 reconstruction error: 1.076990\n",
            "Epoch: 374 reconstruction error: 1.076512\n",
            "Epoch: 375 reconstruction error: 1.076522\n",
            "Epoch: 376 reconstruction error: 1.076421\n",
            "Epoch: 377 reconstruction error: 1.076663\n",
            "Epoch: 378 reconstruction error: 1.076442\n",
            "Epoch: 379 reconstruction error: 1.076870\n",
            "Epoch: 380 reconstruction error: 1.076905\n",
            "Epoch: 381 reconstruction error: 1.076478\n",
            "Epoch: 382 reconstruction error: 1.075992\n",
            "Epoch: 383 reconstruction error: 1.077042\n",
            "Epoch: 384 reconstruction error: 1.076378\n",
            "Epoch: 385 reconstruction error: 1.076257\n",
            "Epoch: 386 reconstruction error: 1.076272\n",
            "Epoch: 387 reconstruction error: 1.076555\n",
            "Epoch: 388 reconstruction error: 1.075905\n",
            "Epoch: 389 reconstruction error: 1.076484\n",
            "Epoch: 390 reconstruction error: 1.076301\n",
            "Epoch: 391 reconstruction error: 1.076105\n",
            "Epoch: 392 reconstruction error: 1.075951\n",
            "Epoch: 393 reconstruction error: 1.076517\n",
            "Epoch: 394 reconstruction error: 1.075927\n",
            "Epoch: 395 reconstruction error: 1.076550\n",
            "Epoch: 396 reconstruction error: 1.075703\n",
            "Epoch: 397 reconstruction error: 1.076540\n",
            "Epoch: 398 reconstruction error: 1.075999\n",
            "Epoch: 399 reconstruction error: 1.076197\n",
            "Epoch: 400 reconstruction error: 1.076360\n",
            "Epoch: 401 reconstruction error: 1.076118\n",
            "Epoch: 402 reconstruction error: 1.075629\n",
            "Epoch: 403 reconstruction error: 1.076637\n",
            "Epoch: 404 reconstruction error: 1.075735\n",
            "Epoch: 405 reconstruction error: 1.076182\n",
            "Epoch: 406 reconstruction error: 1.075979\n",
            "Epoch: 407 reconstruction error: 1.075969\n",
            "Epoch: 408 reconstruction error: 1.075981\n",
            "Epoch: 409 reconstruction error: 1.075256\n",
            "Epoch: 410 reconstruction error: 1.075863\n",
            "Epoch: 411 reconstruction error: 1.075806\n",
            "Epoch: 412 reconstruction error: 1.075122\n",
            "Epoch: 413 reconstruction error: 1.075621\n",
            "Epoch: 414 reconstruction error: 1.076066\n",
            "Epoch: 415 reconstruction error: 1.075426\n",
            "Epoch: 416 reconstruction error: 1.075822\n",
            "Epoch: 417 reconstruction error: 1.075300\n",
            "Epoch: 418 reconstruction error: 1.075528\n",
            "Epoch: 419 reconstruction error: 1.075820\n",
            "Epoch: 420 reconstruction error: 1.075425\n",
            "Epoch: 421 reconstruction error: 1.075421\n",
            "Epoch: 422 reconstruction error: 1.075474\n",
            "Epoch: 423 reconstruction error: 1.075158\n",
            "Epoch: 424 reconstruction error: 1.075578\n",
            "Epoch: 425 reconstruction error: 1.075125\n",
            "Epoch: 426 reconstruction error: 1.075145\n",
            "Epoch: 427 reconstruction error: 1.075124\n",
            "Epoch: 428 reconstruction error: 1.075418\n",
            "Epoch: 429 reconstruction error: 1.075364\n",
            "Epoch: 430 reconstruction error: 1.075362\n",
            "Epoch: 431 reconstruction error: 1.075256\n",
            "Epoch: 432 reconstruction error: 1.074914\n",
            "Epoch: 433 reconstruction error: 1.074746\n",
            "Epoch: 434 reconstruction error: 1.075377\n",
            "Epoch: 435 reconstruction error: 1.074916\n",
            "Epoch: 436 reconstruction error: 1.075243\n",
            "Epoch: 437 reconstruction error: 1.075117\n",
            "Epoch: 438 reconstruction error: 1.075204\n",
            "Epoch: 439 reconstruction error: 1.074679\n",
            "Epoch: 440 reconstruction error: 1.075443\n",
            "Epoch: 441 reconstruction error: 1.074885\n",
            "Epoch: 442 reconstruction error: 1.075125\n",
            "Epoch: 443 reconstruction error: 1.075555\n",
            "Epoch: 444 reconstruction error: 1.075483\n",
            "Epoch: 445 reconstruction error: 1.074896\n",
            "Epoch: 446 reconstruction error: 1.075341\n",
            "Epoch: 447 reconstruction error: 1.074764\n",
            "Epoch: 448 reconstruction error: 1.075178\n",
            "Epoch: 449 reconstruction error: 1.074669\n",
            "Epoch: 450 reconstruction error: 1.075199\n",
            "Epoch: 451 reconstruction error: 1.074998\n",
            "Epoch: 452 reconstruction error: 1.075271\n",
            "Epoch: 453 reconstruction error: 1.074281\n",
            "Epoch: 454 reconstruction error: 1.075423\n",
            "Epoch: 455 reconstruction error: 1.074698\n",
            "Epoch: 456 reconstruction error: 1.075250\n",
            "Epoch: 457 reconstruction error: 1.075089\n",
            "Epoch: 458 reconstruction error: 1.075189\n",
            "Epoch: 459 reconstruction error: 1.075014\n",
            "Epoch: 460 reconstruction error: 1.074983\n",
            "Epoch: 461 reconstruction error: 1.074725\n",
            "Epoch: 462 reconstruction error: 1.074929\n",
            "Epoch: 463 reconstruction error: 1.074522\n",
            "Epoch: 464 reconstruction error: 1.075148\n",
            "Epoch: 465 reconstruction error: 1.074582\n",
            "Epoch: 466 reconstruction error: 1.074797\n",
            "Epoch: 467 reconstruction error: 1.074674\n",
            "Epoch: 468 reconstruction error: 1.074904\n",
            "Epoch: 469 reconstruction error: 1.074038\n",
            "Epoch: 470 reconstruction error: 1.074793\n",
            "Epoch: 471 reconstruction error: 1.074672\n",
            "Epoch: 472 reconstruction error: 1.074502\n",
            "Epoch: 473 reconstruction error: 1.074543\n",
            "Epoch: 474 reconstruction error: 1.074682\n",
            "Epoch: 475 reconstruction error: 1.074173\n",
            "Epoch: 476 reconstruction error: 1.074550\n",
            "Epoch: 477 reconstruction error: 1.074062\n",
            "Epoch: 478 reconstruction error: 1.074175\n",
            "Epoch: 479 reconstruction error: 1.074589\n",
            "Epoch: 480 reconstruction error: 1.073920\n",
            "Epoch: 481 reconstruction error: 1.074239\n",
            "Epoch: 482 reconstruction error: 1.074092\n",
            "Epoch: 483 reconstruction error: 1.074339\n",
            "Epoch: 484 reconstruction error: 1.074064\n",
            "Epoch: 485 reconstruction error: 1.074324\n",
            "Epoch: 486 reconstruction error: 1.074389\n",
            "Epoch: 487 reconstruction error: 1.074023\n",
            "Epoch: 488 reconstruction error: 1.074142\n",
            "Epoch: 489 reconstruction error: 1.074579\n",
            "Epoch: 490 reconstruction error: 1.074162\n",
            "Epoch: 491 reconstruction error: 1.074121\n",
            "Epoch: 492 reconstruction error: 1.073979\n",
            "Epoch: 493 reconstruction error: 1.074218\n",
            "Epoch: 494 reconstruction error: 1.074231\n",
            "Epoch: 495 reconstruction error: 1.074244\n",
            "Epoch: 496 reconstruction error: 1.073910\n",
            "Epoch: 497 reconstruction error: 1.074352\n",
            "Epoch: 498 reconstruction error: 1.074142\n",
            "Epoch: 499 reconstruction error: 1.073910\n"
          ]
        }
      ]
    },
    {
      "cell_type": "markdown",
      "source": [
        "\n",
        "Displays the plot of the reconstruction errors."
      ],
      "metadata": {
        "id": "6LZnl1KlpjG-"
      }
    },
    {
      "cell_type": "code",
      "source": [
        "# Plot reconstruction errors\n",
        "pd.Series(err).plot(logy=False)\n",
        "plt.xlabel(\"Epoch\")\n",
        "plt.ylabel(\"Reconstruction Error\")"
      ],
      "metadata": {
        "colab": {
          "base_uri": "https://localhost:8080/",
          "height": 297
        },
        "id": "VPWwFESuo3qp",
        "outputId": "2d35508b-1fc0-4e23-ef7b-90661024c9a1"
      },
      "execution_count": 27,
      "outputs": [
        {
          "output_type": "execute_result",
          "data": {
            "text/plain": [
              "Text(0, 0.5, 'Reconstruction Error')"
            ]
          },
          "metadata": {},
          "execution_count": 27
        },
        {
          "output_type": "display_data",
          "data": {
            "text/plain": [
              "<Figure size 432x288 with 1 Axes>"
            ],
            "image/png": "[encoded data removed]"
          },
          "metadata": {
            "needs_background": "light"
          }
        }
      ]
    },
    {
      "cell_type": "markdown",
      "source": [
        "Now let’s take the RBM model we developed to predict the ratings for users in the validation set (which has the same users as the training set)."
      ],
      "metadata": {
        "id": "O_FxPsy8pm7A"
      }
    },
    {
      "cell_type": "code",
      "source": [
        "\n",
        "# Predict ratings for validation set\n",
        "inputValidation = ratings_validation\n",
        "inputValidation = inputValidation.astype(np.float32)\n",
        "finalOutput_validation, reconstructedOutput_validation, _ = rbm.rbm_output(inputValidation)"
      ],
      "metadata": {
        "id": "hU7y53trppvg"
      },
      "execution_count": 28,
      "outputs": []
    },
    {
      "cell_type": "markdown",
      "source": [
        "\n",
        "Next, let’s convert the predictions into an array and calculate the MSE against the true validation ratings."
      ],
      "metadata": {
        "id": "gVZKjVhZpr1H"
      }
    },
    {
      "cell_type": "code",
      "source": [
        "\n",
        "# Calculate MSE on validation set\n",
        "predictionsArray = reconstructedOutput_validation\n",
        "pred_validation = predictionsArray[ratings_validation.nonzero()].flatten()\n",
        "actual_validation = ratings_validation[ratings_validation.nonzero()].flatten()\n",
        "rbm_prediction = mean_squared_error(pred_validation, actual_validation)\n",
        "print('Mean squared error using RBM prediction:', rbm_prediction)"
      ],
      "metadata": {
        "colab": {
          "base_uri": "https://localhost:8080/"
        },
        "id": "BlbuB6QApuo5",
        "outputId": "e6e04c96-67da-4997-eff6-816c621c220e"
      },
      "execution_count": 29,
      "outputs": [
        {
          "output_type": "stream",
          "name": "stdout",
          "text": [
            "Mean squared error using RBM prediction: 9.334460208379516\n"
          ]
        }
      ]
    },
    {
      "cell_type": "markdown",
      "source": [
        "This MSE is a starting point and will likely improve with greater experimentation."
      ],
      "metadata": {
        "id": "kEgrDUixpw0P"
      }
    }
  ]
}